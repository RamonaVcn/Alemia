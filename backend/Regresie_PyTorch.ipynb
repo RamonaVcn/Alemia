{
  "cells": [
    {
      "cell_type": "code",
      "execution_count": 1,
      "metadata": {
        "id": "CuPdHGq-_QYq"
      },
      "outputs": [],
      "source": [
        "import torch\n",
        "import torch.nn as nn\n",
        "import torch.nn.functional as F\n",
        "import torch.optim as optim\n",
        "\n",
        "import pandas as pd\n",
        "import numpy as np \n",
        "import matplotlib.pyplot as plt\n",
        "from sklearn.model_selection import train_test_split"
      ]
    },
    {
      "cell_type": "markdown",
      "metadata": {
        "id": "xQlV_SRyAv_m"
      },
      "source": [
        "## Dataset\n",
        "In această secțiune vom încărca și vom vizualiza datele din features.\n",
        "\n",
        "Vom utiliza framework-ul **pandas**."
      ]
    },
    {
      "cell_type": "code",
      "execution_count": 10,
      "metadata": {
        "colab": {
          "base_uri": "https://localhost:8080/",
          "height": 444
        },
        "id": "g5yEGpAgBEQs",
        "outputId": "47a0cb61-62a5-4fc5-aeea-054814424d4c"
      },
      "outputs": [
        {
          "data": {
            "text/html": [
              "<div>\n",
              "<style scoped>\n",
              "    .dataframe tbody tr th:only-of-type {\n",
              "        vertical-align: middle;\n",
              "    }\n",
              "\n",
              "    .dataframe tbody tr th {\n",
              "        vertical-align: top;\n",
              "    }\n",
              "\n",
              "    .dataframe thead th {\n",
              "        text-align: right;\n",
              "    }\n",
              "</style>\n",
              "<table border=\"1\" class=\"dataframe\">\n",
              "  <thead>\n",
              "    <tr style=\"text-align: right;\">\n",
              "      <th></th>\n",
              "      <th>nr_clase</th>\n",
              "      <th>nr_errors</th>\n",
              "      <th>nr_inheritance</th>\n",
              "      <th>nr_virtual</th>\n",
              "      <th>nr_static</th>\n",
              "      <th>nr_global</th>\n",
              "      <th>nr_public</th>\n",
              "      <th>nr_private</th>\n",
              "      <th>nr_protected</th>\n",
              "      <th>nr_define</th>\n",
              "      <th>...</th>\n",
              "      <th>nr_stl</th>\n",
              "      <th>nr_namespace</th>\n",
              "      <th>nr_enum</th>\n",
              "      <th>nr_struct</th>\n",
              "      <th>nr_cpp</th>\n",
              "      <th>nr_comments</th>\n",
              "      <th>nr_function</th>\n",
              "      <th>headers_size</th>\n",
              "      <th>sources_size</th>\n",
              "      <th>grade</th>\n",
              "    </tr>\n",
              "  </thead>\n",
              "  <tbody>\n",
              "    <tr>\n",
              "      <th>0</th>\n",
              "      <td>11</td>\n",
              "      <td>605</td>\n",
              "      <td>0</td>\n",
              "      <td>3</td>\n",
              "      <td>2</td>\n",
              "      <td>0</td>\n",
              "      <td>17</td>\n",
              "      <td>1</td>\n",
              "      <td>2</td>\n",
              "      <td>6</td>\n",
              "      <td>...</td>\n",
              "      <td>10</td>\n",
              "      <td>4</td>\n",
              "      <td>0</td>\n",
              "      <td>0</td>\n",
              "      <td>12</td>\n",
              "      <td>4</td>\n",
              "      <td>39</td>\n",
              "      <td>3002</td>\n",
              "      <td>13697</td>\n",
              "      <td>5.01</td>\n",
              "    </tr>\n",
              "    <tr>\n",
              "      <th>2</th>\n",
              "      <td>12</td>\n",
              "      <td>1466</td>\n",
              "      <td>9</td>\n",
              "      <td>5</td>\n",
              "      <td>5</td>\n",
              "      <td>0</td>\n",
              "      <td>26</td>\n",
              "      <td>2</td>\n",
              "      <td>0</td>\n",
              "      <td>2</td>\n",
              "      <td>...</td>\n",
              "      <td>6</td>\n",
              "      <td>6</td>\n",
              "      <td>0</td>\n",
              "      <td>0</td>\n",
              "      <td>12</td>\n",
              "      <td>6</td>\n",
              "      <td>28</td>\n",
              "      <td>4497</td>\n",
              "      <td>38762</td>\n",
              "      <td>5.70</td>\n",
              "    </tr>\n",
              "    <tr>\n",
              "      <th>3</th>\n",
              "      <td>19</td>\n",
              "      <td>1121</td>\n",
              "      <td>6</td>\n",
              "      <td>3</td>\n",
              "      <td>2</td>\n",
              "      <td>0</td>\n",
              "      <td>31</td>\n",
              "      <td>1</td>\n",
              "      <td>7</td>\n",
              "      <td>19</td>\n",
              "      <td>...</td>\n",
              "      <td>56</td>\n",
              "      <td>19</td>\n",
              "      <td>0</td>\n",
              "      <td>0</td>\n",
              "      <td>20</td>\n",
              "      <td>6</td>\n",
              "      <td>111</td>\n",
              "      <td>12825</td>\n",
              "      <td>31678</td>\n",
              "      <td>5.77</td>\n",
              "    </tr>\n",
              "    <tr>\n",
              "      <th>4</th>\n",
              "      <td>26</td>\n",
              "      <td>742</td>\n",
              "      <td>1</td>\n",
              "      <td>1</td>\n",
              "      <td>5</td>\n",
              "      <td>0</td>\n",
              "      <td>35</td>\n",
              "      <td>3</td>\n",
              "      <td>1</td>\n",
              "      <td>3</td>\n",
              "      <td>...</td>\n",
              "      <td>22</td>\n",
              "      <td>3</td>\n",
              "      <td>2</td>\n",
              "      <td>0</td>\n",
              "      <td>25</td>\n",
              "      <td>45</td>\n",
              "      <td>83</td>\n",
              "      <td>6931</td>\n",
              "      <td>19647</td>\n",
              "      <td>5.84</td>\n",
              "    </tr>\n",
              "    <tr>\n",
              "      <th>6</th>\n",
              "      <td>18</td>\n",
              "      <td>1357</td>\n",
              "      <td>1</td>\n",
              "      <td>8</td>\n",
              "      <td>4</td>\n",
              "      <td>0</td>\n",
              "      <td>30</td>\n",
              "      <td>1</td>\n",
              "      <td>0</td>\n",
              "      <td>2</td>\n",
              "      <td>...</td>\n",
              "      <td>9</td>\n",
              "      <td>6</td>\n",
              "      <td>0</td>\n",
              "      <td>0</td>\n",
              "      <td>19</td>\n",
              "      <td>3</td>\n",
              "      <td>76</td>\n",
              "      <td>4447</td>\n",
              "      <td>29532</td>\n",
              "      <td>6.92</td>\n",
              "    </tr>\n",
              "    <tr>\n",
              "      <th>...</th>\n",
              "      <td>...</td>\n",
              "      <td>...</td>\n",
              "      <td>...</td>\n",
              "      <td>...</td>\n",
              "      <td>...</td>\n",
              "      <td>...</td>\n",
              "      <td>...</td>\n",
              "      <td>...</td>\n",
              "      <td>...</td>\n",
              "      <td>...</td>\n",
              "      <td>...</td>\n",
              "      <td>...</td>\n",
              "      <td>...</td>\n",
              "      <td>...</td>\n",
              "      <td>...</td>\n",
              "      <td>...</td>\n",
              "      <td>...</td>\n",
              "      <td>...</td>\n",
              "      <td>...</td>\n",
              "      <td>...</td>\n",
              "      <td>...</td>\n",
              "    </tr>\n",
              "    <tr>\n",
              "      <th>70</th>\n",
              "      <td>5</td>\n",
              "      <td>132</td>\n",
              "      <td>0</td>\n",
              "      <td>0</td>\n",
              "      <td>3</td>\n",
              "      <td>0</td>\n",
              "      <td>5</td>\n",
              "      <td>4</td>\n",
              "      <td>1</td>\n",
              "      <td>0</td>\n",
              "      <td>...</td>\n",
              "      <td>21</td>\n",
              "      <td>0</td>\n",
              "      <td>0</td>\n",
              "      <td>0</td>\n",
              "      <td>6</td>\n",
              "      <td>0</td>\n",
              "      <td>18</td>\n",
              "      <td>1979</td>\n",
              "      <td>3577</td>\n",
              "      <td>4.34</td>\n",
              "    </tr>\n",
              "    <tr>\n",
              "      <th>71</th>\n",
              "      <td>5</td>\n",
              "      <td>132</td>\n",
              "      <td>0</td>\n",
              "      <td>0</td>\n",
              "      <td>3</td>\n",
              "      <td>0</td>\n",
              "      <td>5</td>\n",
              "      <td>4</td>\n",
              "      <td>1</td>\n",
              "      <td>0</td>\n",
              "      <td>...</td>\n",
              "      <td>21</td>\n",
              "      <td>0</td>\n",
              "      <td>0</td>\n",
              "      <td>0</td>\n",
              "      <td>6</td>\n",
              "      <td>0</td>\n",
              "      <td>18</td>\n",
              "      <td>1979</td>\n",
              "      <td>3577</td>\n",
              "      <td>4.33</td>\n",
              "    </tr>\n",
              "    <tr>\n",
              "      <th>72</th>\n",
              "      <td>5</td>\n",
              "      <td>132</td>\n",
              "      <td>0</td>\n",
              "      <td>0</td>\n",
              "      <td>3</td>\n",
              "      <td>0</td>\n",
              "      <td>5</td>\n",
              "      <td>4</td>\n",
              "      <td>1</td>\n",
              "      <td>0</td>\n",
              "      <td>...</td>\n",
              "      <td>21</td>\n",
              "      <td>0</td>\n",
              "      <td>0</td>\n",
              "      <td>0</td>\n",
              "      <td>6</td>\n",
              "      <td>0</td>\n",
              "      <td>18</td>\n",
              "      <td>1979</td>\n",
              "      <td>3577</td>\n",
              "      <td>4.33</td>\n",
              "    </tr>\n",
              "    <tr>\n",
              "      <th>73</th>\n",
              "      <td>5</td>\n",
              "      <td>132</td>\n",
              "      <td>0</td>\n",
              "      <td>0</td>\n",
              "      <td>3</td>\n",
              "      <td>0</td>\n",
              "      <td>5</td>\n",
              "      <td>4</td>\n",
              "      <td>1</td>\n",
              "      <td>0</td>\n",
              "      <td>...</td>\n",
              "      <td>21</td>\n",
              "      <td>0</td>\n",
              "      <td>0</td>\n",
              "      <td>0</td>\n",
              "      <td>6</td>\n",
              "      <td>0</td>\n",
              "      <td>18</td>\n",
              "      <td>1979</td>\n",
              "      <td>3577</td>\n",
              "      <td>4.33</td>\n",
              "    </tr>\n",
              "    <tr>\n",
              "      <th>74</th>\n",
              "      <td>5</td>\n",
              "      <td>132</td>\n",
              "      <td>0</td>\n",
              "      <td>0</td>\n",
              "      <td>3</td>\n",
              "      <td>0</td>\n",
              "      <td>5</td>\n",
              "      <td>4</td>\n",
              "      <td>1</td>\n",
              "      <td>0</td>\n",
              "      <td>...</td>\n",
              "      <td>21</td>\n",
              "      <td>0</td>\n",
              "      <td>0</td>\n",
              "      <td>0</td>\n",
              "      <td>6</td>\n",
              "      <td>0</td>\n",
              "      <td>18</td>\n",
              "      <td>1979</td>\n",
              "      <td>3577</td>\n",
              "      <td>4.33</td>\n",
              "    </tr>\n",
              "  </tbody>\n",
              "</table>\n",
              "<p>63 rows × 21 columns</p>\n",
              "</div>"
            ],
            "text/plain": [
              "    nr_clase  nr_errors  nr_inheritance  nr_virtual  nr_static  nr_global  \\\n",
              "0         11        605               0           3          2          0   \n",
              "2         12       1466               9           5          5          0   \n",
              "3         19       1121               6           3          2          0   \n",
              "4         26        742               1           1          5          0   \n",
              "6         18       1357               1           8          4          0   \n",
              "..       ...        ...             ...         ...        ...        ...   \n",
              "70         5        132               0           0          3          0   \n",
              "71         5        132               0           0          3          0   \n",
              "72         5        132               0           0          3          0   \n",
              "73         5        132               0           0          3          0   \n",
              "74         5        132               0           0          3          0   \n",
              "\n",
              "    nr_public  nr_private  nr_protected  nr_define  ...  nr_stl  nr_namespace  \\\n",
              "0          17           1             2          6  ...      10             4   \n",
              "2          26           2             0          2  ...       6             6   \n",
              "3          31           1             7         19  ...      56            19   \n",
              "4          35           3             1          3  ...      22             3   \n",
              "6          30           1             0          2  ...       9             6   \n",
              "..        ...         ...           ...        ...  ...     ...           ...   \n",
              "70          5           4             1          0  ...      21             0   \n",
              "71          5           4             1          0  ...      21             0   \n",
              "72          5           4             1          0  ...      21             0   \n",
              "73          5           4             1          0  ...      21             0   \n",
              "74          5           4             1          0  ...      21             0   \n",
              "\n",
              "    nr_enum  nr_struct  nr_cpp  nr_comments  nr_function  headers_size  \\\n",
              "0         0          0      12            4           39          3002   \n",
              "2         0          0      12            6           28          4497   \n",
              "3         0          0      20            6          111         12825   \n",
              "4         2          0      25           45           83          6931   \n",
              "6         0          0      19            3           76          4447   \n",
              "..      ...        ...     ...          ...          ...           ...   \n",
              "70        0          0       6            0           18          1979   \n",
              "71        0          0       6            0           18          1979   \n",
              "72        0          0       6            0           18          1979   \n",
              "73        0          0       6            0           18          1979   \n",
              "74        0          0       6            0           18          1979   \n",
              "\n",
              "    sources_size  grade  \n",
              "0          13697   5.01  \n",
              "2          38762   5.70  \n",
              "3          31678   5.77  \n",
              "4          19647   5.84  \n",
              "6          29532   6.92  \n",
              "..           ...    ...  \n",
              "70          3577   4.34  \n",
              "71          3577   4.33  \n",
              "72          3577   4.33  \n",
              "73          3577   4.33  \n",
              "74          3577   4.33  \n",
              "\n",
              "[63 rows x 21 columns]"
            ]
          },
          "execution_count": 10,
          "metadata": {},
          "output_type": "execute_result"
        }
      ],
      "source": [
        "featuresFrame = pd.read_csv('../data/features.csv')\n",
        "gradeFrame = pd.read_csv('../data/grades.csv')\n",
        "#merge the two dataframes by label\n",
        "merged = pd.merge(featuresFrame, gradeFrame, on='label')\n",
        "#drop the label column\n",
        "merged = merged.drop(['label'], axis=1)\n",
        "#drop 'Unnamed 22' column\n",
        "merged = merged.drop(['Unnamed: 22'], axis=1)\n",
        "#drop nr_crt column\n",
        "merged = merged.drop(['nr_crt'], axis=1)\n",
        "#drop row where grade is Nan\n",
        "merged = merged.dropna()\n",
        "merged\n"
      ]
    },
    {
      "cell_type": "code",
      "execution_count": 16,
      "metadata": {},
      "outputs": [
        {
          "name": "stdout",
          "output_type": "stream",
          "text": [
            "21\n",
            "item['nr_clase'],\n",
            "item['nr_errors'],\n",
            "item['nr_inheritance'],\n",
            "item['nr_virtual'],\n",
            "item['nr_static'],\n",
            "item['nr_global'],\n",
            "item['nr_public'],\n",
            "item['nr_private'],\n",
            "item['nr_protected'],\n",
            "item['nr_define'],\n",
            "item['nr_template'],\n",
            "item['nr_stl'],\n",
            "item['nr_namespace'],\n",
            "item['nr_enum'],\n",
            "item['nr_struct'],\n",
            "item['nr_cpp'],\n",
            "item['nr_comments'],\n",
            "item['nr_function'],\n",
            "item['headers_size'],\n",
            "item['sources_size'],\n",
            "item['grade'],\n"
          ]
        }
      ],
      "source": [
        "print(len(merged.columns))\n",
        "for i in merged.columns:\n",
        "    print('item[\\''+str(i)+'\\'],')"
      ]
    },
    {
      "cell_type": "code",
      "execution_count": 6,
      "metadata": {
        "colab": {
          "base_uri": "https://localhost:8080/",
          "height": 548
        },
        "id": "UBi4LA5WB5RV",
        "outputId": "6aa122ca-2201-4ec3-81cf-a5d917b77d77"
      },
      "outputs": [
        {
          "data": {
            "image/png": "[encoded data removed]",
            "text/plain": [
              "<Figure size 800x600 with 1 Axes>"
            ]
          },
          "metadata": {
            "needs_background": "light"
          },
          "output_type": "display_data"
        }
      ],
      "source": [
        "x = merged[1:5000]['nr_function']\n",
        "y = merged[1:5000]['grade']\n",
        "plt.figure(figsize=(8,6), dpi=100)\n",
        "plt.plot(x, y, 'o')\n",
        "plt.ylabel(\"Numar functii\")\n",
        "plt.xlabel(\"Nota\")\n",
        "plt.show()"
      ]
    },
    {
      "cell_type": "markdown",
      "metadata": {
        "id": "MFF8cmGzNAms"
      },
      "source": [
        "### Data Split\n",
        "Impartim datele in date de train si date de test cu ajutorul unei metode in SciKitLearn."
      ]
    },
    {
      "cell_type": "code",
      "execution_count": 8,
      "metadata": {
        "colab": {
          "base_uri": "https://localhost:8080/"
        },
        "id": "tWNYv_OAEEmc",
        "outputId": "326b9fb4-6560-4c3b-b8ba-f229b4ba076e"
      },
      "outputs": [
        {
          "name": "stdout",
          "output_type": "stream",
          "text": [
            "Total: 63 \n",
            "Train: 44 \n",
            "Test: 19\n"
          ]
        }
      ],
      "source": [
        "train_frame, test_frame = train_test_split(merged, test_size=0.3)\n",
        "\n",
        "print('Total: {} \\nTrain: {} \\nTest: {}'.format(len(merged), len(train_frame), len(test_frame)))"
      ]
    },
    {
      "cell_type": "markdown",
      "metadata": {
        "id": "4yGVwr07L6up"
      },
      "source": [
        "### HouseDataset\n",
        "Definim o clasa HouseDataset care extinde torch.utils.data.Dataset și care implementeaza metodele necesare pentru compatibilitatea cu DataLoader-ul din PyTorch"
      ]
    },
    {
      "cell_type": "code",
      "execution_count": 14,
      "metadata": {
        "id": "hlHS1k_IL1Nl"
      },
      "outputs": [],
      "source": [
        "class Dataset(torch.utils.data.Dataset):\n",
        "    def __init__(self, dataframe):\n",
        "        self._df = dataframe\n",
        "\n",
        "    def __len__(self): \n",
        "        return len(self._df)\n",
        "\n",
        "    def __getitem__(self, idx): #[]\n",
        "        item = self._df.iloc[idx]\n",
        "        return {'features': torch.tensor([item['nr_clase'],\n",
        "item['nr_errors'],\n",
        "item['nr_inheritance'],\n",
        "item['nr_virtual'],\n",
        "item['nr_static'],\n",
        "item['nr_global'],\n",
        "item['nr_public'],\n",
        "item['nr_private'],\n",
        "item['nr_protected'],\n",
        "item['nr_define'],\n",
        "item['nr_template'],\n",
        "item['nr_stl'],\n",
        "item['nr_namespace'],\n",
        "item['nr_enum'],\n",
        "item['nr_struct'],\n",
        "item['nr_cpp'],\n",
        "item['nr_comments'],\n",
        "item['nr_function'],\n",
        "item['headers_size'],\n",
        "item['sources_size'],], dtype=torch.float32),\n",
        "                'labels' : torch.tensor([item['grade']], dtype=torch.float32)}"
      ]
    },
    {
      "cell_type": "code",
      "execution_count": 15,
      "metadata": {
        "colab": {
          "base_uri": "https://localhost:8080/"
        },
        "id": "h8dQm470MYZg",
        "outputId": "61c65ae2-8583-4eba-9465-fac20b49ff13"
      },
      "outputs": [
        {
          "data": {
            "text/plain": [
              "{'features': tensor([1.9000e+01, 5.4100e+02, 0.0000e+00, 8.0000e+00, 1.8000e+01, 0.0000e+00,\n",
              "         3.3000e+01, 4.0000e+00, 4.0000e+00, 3.0000e+00, 1.0000e+00, 1.5000e+01,\n",
              "         2.0000e+00, 0.0000e+00, 0.0000e+00, 2.0000e+01, 2.0000e+00, 4.9000e+01,\n",
              "         6.8700e+03, 1.6812e+04]),\n",
              " 'labels': tensor([8.2000])}"
            ]
          },
          "execution_count": 15,
          "metadata": {},
          "output_type": "execute_result"
        }
      ],
      "source": [
        "# Utilizam clasa wrapper House Dataset\n",
        "train_set = Dataset(train_frame)\n",
        "test_set = Dataset(test_frame)\n",
        "\n",
        "# Printam al 5lea sample\n",
        "train_set[5]"
      ]
    },
    {
      "cell_type": "markdown",
      "metadata": {
        "id": "TzhjMSCTOVTC"
      },
      "source": [
        "## Model\n",
        "Implementam modelul IA (trebuie sa derivam din torch.nn.Module si sa implementam metodele __init__ si __forward__)"
      ]
    },
    {
      "cell_type": "code",
      "execution_count": null,
      "metadata": {
        "id": "Ki1hYgTSFTuk"
      },
      "outputs": [],
      "source": [
        "class RegressionModel(nn.Module):\n",
        "    def __init__(self, in_feat=1, out_feat=1):\n",
        "        super().__init__()\n",
        "        self.fc = nn.Linear(in_feat, out_feat) # Definesc o retea neuronala cu un singur strat Fully Connected\n",
        "\n",
        "    def forward(self, x):\n",
        "        out = self.fc(x)\n",
        "        return out\n",
        "\n",
        "model = RegressionModel(20,1) # generez o instanță a modelului"
      ]
    },
    {
      "cell_type": "markdown",
      "metadata": {
        "id": "bt2WoD9iQOJx"
      },
      "source": [
        "## Train"
      ]
    },
    {
      "cell_type": "markdown",
      "metadata": {
        "id": "pXsQ15i3RV0d"
      },
      "source": [
        "### Hiperparametrii"
      ]
    },
    {
      "cell_type": "code",
      "execution_count": null,
      "metadata": {
        "id": "NyeGyl-iRVGr"
      },
      "outputs": [],
      "source": [
        "LEARNING_RATE = 1e-10 # Rata de invatare\n",
        "NR_EPOCHS = 5 # Numarul de epoci\n",
        "BATCH_SIZE = 32 # Numarul de samples dintr-un batch"
      ]
    },
    {
      "cell_type": "markdown",
      "metadata": {
        "id": "Ukhsdbw5PAQG"
      },
      "source": [
        "### Funcția cost (loss)\n",
        "Vom utiliza Mean Squared Error (torch.nn.MSELoss) "
      ]
    },
    {
      "cell_type": "code",
      "execution_count": null,
      "metadata": {
        "id": "JZ-bwo7QO9ia"
      },
      "outputs": [],
      "source": [
        "criterion = nn.MSELoss() #atentie: turi utilizeaza Root MSE"
      ]
    },
    {
      "cell_type": "markdown",
      "metadata": {
        "id": "CBFNtd6zPNpV"
      },
      "source": [
        "### Algoritmul de optimizare\n",
        "Vom utiliza Stochastic Gradient Descent (torch.optim.SGD)"
      ]
    },
    {
      "cell_type": "code",
      "execution_count": null,
      "metadata": {
        "id": "cnmIQklkPIyN"
      },
      "outputs": [],
      "source": [
        "optimizer = optim.SGD(model.parameters(), lr=LEARNING_RATE)"
      ]
    },
    {
      "cell_type": "markdown",
      "metadata": {
        "id": "5PA2LMQ9QTbr"
      },
      "source": [
        "### Training Loop"
      ]
    },
    {
      "cell_type": "code",
      "execution_count": null,
      "metadata": {
        "colab": {
          "base_uri": "https://localhost:8080/"
        },
        "id": "YZjBEyv3HwzW",
        "outputId": "cfa3d26a-2731-475e-f85c-491cf805dbcb"
      },
      "outputs": [
        {
          "name": "stdout",
          "output_type": "stream",
          "text": [
            "Running epoch 0\n",
            "Running epoch 1\n",
            "Running epoch 2\n",
            "Running epoch 3\n",
            "Running epoch 4\n"
          ]
        }
      ],
      "source": [
        "# Pregatim o modalitate de loggare a informatiilor din timpul antrenarii\n",
        "log_info = []\n",
        "\n",
        "# Pregatim DataLoader-ul pentru antrenare\n",
        "train_loader = torch.utils.data.DataLoader(train_set, batch_size=BATCH_SIZE, shuffle=True)\n",
        "\n",
        "# Trecem modelul in modul train\n",
        "model.train() \n",
        "\n",
        "\n",
        "\n",
        "########### Training Loop #############\n",
        "\n",
        "# pentru fiecare epoca (1 epoca = o iteratie peste intregul set de date)\n",
        "for epoch in range(NR_EPOCHS):\n",
        "    print('Running epoch {}'.format(epoch))\n",
        "\n",
        "    epoch_losses = []\n",
        "    \n",
        "    # pentru fiecare batch de BATCH_SIZE exemple din setul de date    \n",
        "    for i, batch in enumerate(train_loader):\n",
        "\n",
        "        inputs, labels = batch['features'], batch['labels']\n",
        "        \n",
        "        # anulam gradientii deja acumulati la nivelul retelei neuronale\n",
        "        optimizer.zero_grad()\n",
        "\n",
        "        # FORWARD PASS: trecem inputurile prin retea\n",
        "        outputs = model(inputs)\n",
        "\n",
        "        # Calculam LOSSul dintre etichetele prezise si cele reale\n",
        "        loss = criterion(outputs, labels)\n",
        "\n",
        "        # BACKPRPAGATION: calculam gradientii propagand LOSSul in retea\n",
        "        loss.backward()\n",
        "\n",
        "        # Utilizam optimizorul pentru a modifica parametrii retelei in functie de gradientii acumulati\n",
        "        optimizer.step()\n",
        "\n",
        "        # Salvam informatii despre antrenare (in cazul nostru, salvam valoarea LOSS)\n",
        "        epoch_losses.append(loss.item()) \n",
        "    log_info.append((epoch, np.mean(epoch_losses)))"
      ]
    },
    {
      "cell_type": "markdown",
      "metadata": {
        "id": "LytON8FvWhyY"
      },
      "source": [
        "Realizam graficul modificarii LOSSului pe parcursul antrenării\n",
        "\n"
      ]
    },
    {
      "cell_type": "code",
      "execution_count": null,
      "metadata": {
        "colab": {
          "base_uri": "https://localhost:8080/",
          "height": 308
        },
        "id": "zdcdjMLeVeH8",
        "outputId": "4c83f96a-54d8-400b-d6e2-fbec72a77082"
      },
      "outputs": [
        {
          "data": {
            "text/plain": [
              "Text(0, 0.5, 'LOSS')"
            ]
          },
          "execution_count": 13,
          "metadata": {},
          "output_type": "execute_result"
        },
        {
          "data": {
            "image/png": "[encoded data removed]",
            "text/plain": [
              "<Figure size 432x288 with 1 Axes>"
            ]
          },
          "metadata": {
            "needs_background": "light"
          },
          "output_type": "display_data"
        }
      ],
      "source": [
        "X = [x for x, loss in log_info]\n",
        "Y = [loss for x, loss in log_info]\n",
        "plt.plot(X,Y)\n",
        "plt.xlabel(\"Epoch\")\n",
        "plt.ylabel(\"LOSS\")"
      ]
    },
    {
      "cell_type": "markdown",
      "metadata": {
        "id": "Lq0PMkaWW6j9"
      },
      "source": [
        "## Validare / Testare"
      ]
    },
    {
      "cell_type": "code",
      "execution_count": null,
      "metadata": {
        "colab": {
          "base_uri": "https://localhost:8080/",
          "height": 546
        },
        "id": "fOqeHAQnI6YL",
        "outputId": "cbb93388-a795-4f0c-c225-49bf2aa865f0"
      },
      "outputs": [
        {
          "data": {
            "text/plain": [
              "<matplotlib.legend.Legend at 0x7f795cc7c110>"
            ]
          },
          "execution_count": 14,
          "metadata": {},
          "output_type": "execute_result"
        },
        {
          "data": {
            "image/png": "[encoded data removed]",
            "text/plain": [
              "<Figure size 800x600 with 1 Axes>"
            ]
          },
          "metadata": {
            "needs_background": "light"
          },
          "output_type": "display_data"
        }
      ],
      "source": [
        "# Pregatim DataLoader-ul pentru validare\n",
        "test_loader = torch.utils.data.DataLoader(test_set, batch_size=32, shuffle=False)\n",
        "\n",
        "# Pregatim o modalitate de stocare a datelor pentru evaluare\n",
        "eval_outputs = []\n",
        "true_labels = []\n",
        "x = []\n",
        "\n",
        "\n",
        "# Trecem modelul in modul eval\n",
        "model.eval()\n",
        "\n",
        "\n",
        "\n",
        "########### Evaluation Loop #############\n",
        "with torch.no_grad():\n",
        "    for batch in test_loader:\n",
        "        inputs, labels = batch['features'], batch['labels']\n",
        "        # calculate outputs by running images through the network\n",
        "        outputs = model(inputs)\n",
        "        eval_outputs += outputs.squeeze(dim=1).tolist()\n",
        "        true_labels += labels.squeeze(dim=1).tolist()\n",
        "        x += inputs.squeeze(dim=1).tolist()\n",
        "\n",
        "plt.figure(figsize=(8,6), dpi=100)\n",
        "plt.plot(x, true_labels, 'o', label='Ground Truth')\n",
        "plt.plot(x, eval_outputs, 'o', label='Prediction')\n",
        "plt.legend()"
      ]
    },
    {
      "cell_type": "markdown",
      "metadata": {
        "id": "kK1vMXK8ZldZ"
      },
      "source": []
    },
    {
      "cell_type": "code",
      "execution_count": null,
      "metadata": {
        "colab": {
          "base_uri": "https://localhost:8080/"
        },
        "id": "alNWzlM-WAFj",
        "outputId": "e1b98cce-f1ba-40cb-8344-3589dac00f3f"
      },
      "outputs": [
        {
          "name": "stdout",
          "output_type": "stream",
          "text": [
            "Parameter containing:\n",
            "tensor([[245.4669]], requires_grad=True) Parameter containing:\n",
            "tensor([0.8926], requires_grad=True)\n"
          ]
        }
      ],
      "source": [
        "print(model.fc.weight, model.fc.bias)"
      ]
    }
  ],
  "metadata": {
    "colab": {
      "name": "Copie a blocnotesului Regresie.PyTorch.ipynb",
      "provenance": []
    },
    "kernelspec": {
      "display_name": "Python 3",
      "name": "python3"
    },
    "language_info": {
      "codemirror_mode": {
        "name": "ipython",
        "version": 3
      },
      "file_extension": ".py",
      "mimetype": "text/x-python",
      "name": "python",
      "nbconvert_exporter": "python",
      "pygments_lexer": "ipython3",
      "version": "3.9.10"
    }
  },
  "nbformat": 4,
  "nbformat_minor": 0
}
